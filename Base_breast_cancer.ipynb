{
  "nbformat": 4,
  "nbformat_minor": 0,
  "metadata": {
    "colab": {
      "provenance": []
    },
    "kernelspec": {
      "name": "python3",
      "display_name": "Python 3"
    },
    "language_info": {
      "name": "python"
    }
  },
  "cells": [
    {
      "cell_type": "code",
      "metadata": {
        "id": "7ivYEl8eGY98"
      },
      "source": [
        "import pandas as pd\n",
        "from sklearn.model_selection import train_test_split\n",
        "from sklearn.metrics import confusion_matrix, recall_score\n",
        "import keras\n",
        "from keras.models import Sequential\n",
        "from keras.layers import Dense\n",
        "import numpy as np"
      ],
      "execution_count": null,
      "outputs": []
    },
    {
      "cell_type": "markdown",
      "metadata": {
        "id": "m5irBonIKP42"
      },
      "source": [
        "**Fazendo a leitura dos Datasets**"
      ]
    },
    {
      "cell_type": "code",
      "metadata": {
        "id": "-JrfnJ-_G9U7"
      },
      "source": [
        "previsores = pd.read_csv('entradas_breast.csv')\n",
        "classe = pd.read_csv('saidas_breast.csv')"
      ],
      "execution_count": null,
      "outputs": []
    },
    {
      "cell_type": "code",
      "source": [
        "previsores.shape"
      ],
      "metadata": {
        "id": "PrCOG8cOXMn8",
        "outputId": "1ba3e055-143c-4ad6-b2dd-b338377bd7a1",
        "colab": {
          "base_uri": "https://localhost:8080/"
        }
      },
      "execution_count": null,
      "outputs": [
        {
          "output_type": "execute_result",
          "data": {
            "text/plain": [
              "(569, 30)"
            ]
          },
          "metadata": {},
          "execution_count": 3
        }
      ]
    },
    {
      "cell_type": "markdown",
      "metadata": {
        "id": "t1ffvoqSKgTF"
      },
      "source": [
        "**Fazendo a divisão da base de dados em treinamento e teste**"
      ]
    },
    {
      "cell_type": "code",
      "metadata": {
        "id": "W2Zxc0SbHK6S"
      },
      "source": [
        "previsores_treinamento, previsores_teste, classe_treinamento, classe_teste = train_test_split(previsores, classe, test_size=0.25)"
      ],
      "execution_count": null,
      "outputs": []
    },
    {
      "cell_type": "markdown",
      "metadata": {
        "id": "IbY68BzrKuk1"
      },
      "source": [
        "**Criação da rede neural**"
      ]
    },
    {
      "cell_type": "code",
      "metadata": {
        "id": "IE1uYI6jIoiC"
      },
      "source": [
        "#Sequential == classe utilizada para criação da rede neural\n",
        "\n",
        "classificador = Sequential()"
      ],
      "execution_count": null,
      "outputs": []
    },
    {
      "cell_type": "markdown",
      "metadata": {
        "id": "bGS1BjHnL_je"
      },
      "source": [
        "**Adicionando uma camada oculta**"
      ]
    },
    {
      "cell_type": "code",
      "metadata": {
        "id": "RKYvTMRFIwc2"
      },
      "source": [
        "# Dense == Camadas densas da rede neural, ou seja, cada neurônio é ligado com todos os outros neurônios da camada subsequente.\n",
        "# units == Quantos neurônios farão parte da minha camada oculta (números de entradas + numeros de saídas / 2)\n",
        "# activation == função de ativação que sera inserida (relu, sigmoid, etc)\n",
        "# kernel_initializer == Como será feita a inicialização dos pesos\n",
        "# imput_dim = Quantos elementos existem na camada de entrada (cadastrar somente na primeira camada oculta)\n",
        "\n",
        "classificador.add(Dense(\n",
        "                        units=16,\n",
        "                        activation='relu',\n",
        "                        kernel_initializer='random_uniform',\n",
        "                        input_dim=30))"
      ],
      "execution_count": null,
      "outputs": []
    },
    {
      "cell_type": "markdown",
      "metadata": {
        "id": "Q2CrDDi8ZhPx"
      },
      "source": [
        "**Adicionando mais uma camada oculta**"
      ]
    },
    {
      "cell_type": "code",
      "metadata": {
        "id": "Gv-c4Kg2Zk71"
      },
      "source": [
        "classificador.add(Dense(\n",
        "                        units=16,\n",
        "                        activation='relu',\n",
        "                        kernel_initializer='random_uniform'))"
      ],
      "execution_count": null,
      "outputs": []
    },
    {
      "cell_type": "markdown",
      "metadata": {
        "id": "mqYPuHz3MTZg"
      },
      "source": [
        "**Adicionando a camada de saída**"
      ]
    },
    {
      "cell_type": "code",
      "metadata": {
        "id": "Eh9zDV6tMSKy"
      },
      "source": [
        "classificador.add(Dense(\n",
        "    units=1,\n",
        "    activation='sigmoid'\n",
        "))"
      ],
      "execution_count": null,
      "outputs": []
    },
    {
      "cell_type": "markdown",
      "metadata": {
        "id": "hzB7SPvcN4uc"
      },
      "source": [
        "**Compilando a rede neural**"
      ]
    },
    {
      "cell_type": "code",
      "metadata": {
        "id": "dYo_6z7-N2Nn"
      },
      "source": [
        "# optimizer == Qual a função que será utilizada para fazer o ajuste dos pesos\n",
        "# loss == Função de perda (realização do cálculo de erro)\n",
        "# metrics == métrica que será utilizada para fazer a avaliação\n",
        "\n",
        "classificador.compile(\n",
        "    optimizer='adam',\n",
        "    loss='binary_crossentropy',\n",
        "    metrics=['binary_accuracy']\n",
        ")"
      ],
      "execution_count": null,
      "outputs": []
    },
    {
      "cell_type": "markdown",
      "metadata": {
        "id": "bUcpGa7-O6iI"
      },
      "source": [
        "**Iniciando o treinamento da rede neural**"
      ]
    },
    {
      "cell_type": "code",
      "metadata": {
        "id": "0Ak8IhWGPDks",
        "colab": {
          "base_uri": "https://localhost:8080/"
        },
        "outputId": "cad847d3-d159-42e8-e608-c88d7d35c7ca"
      },
      "source": [
        "# fit == Encaixar as features para realizar o treinamento\n",
        "# batch_size == De quantos em quantos registros os pesos serão atualizados\n",
        "# epochs = quantas vezes os pesos serão ajustados\n",
        "\n",
        "classificador.fit(\n",
        "    previsores_treinamento,\n",
        "    classe_treinamento,\n",
        "    batch_size=2,\n",
        "    epochs=200\n",
        ")"
      ],
      "execution_count": null,
      "outputs": [
        {
          "output_type": "stream",
          "name": "stdout",
          "text": [
            "Epoch 1/200\n",
            "213/213 [==============================] - 1s 2ms/step - loss: 0.7067 - binary_accuracy: 0.6315\n",
            "Epoch 2/200\n",
            "213/213 [==============================] - 0s 2ms/step - loss: 0.4832 - binary_accuracy: 0.7512\n",
            "Epoch 3/200\n",
            "213/213 [==============================] - 0s 1ms/step - loss: 0.4026 - binary_accuracy: 0.8169\n",
            "Epoch 4/200\n",
            "213/213 [==============================] - 0s 2ms/step - loss: 0.4211 - binary_accuracy: 0.8005\n",
            "Epoch 5/200\n",
            "213/213 [==============================] - 0s 2ms/step - loss: 0.3493 - binary_accuracy: 0.8592\n",
            "Epoch 6/200\n",
            "213/213 [==============================] - 0s 1ms/step - loss: 0.3263 - binary_accuracy: 0.8592\n",
            "Epoch 7/200\n",
            "213/213 [==============================] - 0s 2ms/step - loss: 0.3042 - binary_accuracy: 0.8779\n",
            "Epoch 8/200\n",
            "213/213 [==============================] - 0s 1ms/step - loss: 0.2980 - binary_accuracy: 0.8803\n",
            "Epoch 9/200\n",
            "213/213 [==============================] - 0s 2ms/step - loss: 0.2807 - binary_accuracy: 0.8897\n",
            "Epoch 10/200\n",
            "213/213 [==============================] - 0s 1ms/step - loss: 0.3726 - binary_accuracy: 0.8826\n",
            "Epoch 11/200\n",
            "213/213 [==============================] - 0s 2ms/step - loss: 0.2725 - binary_accuracy: 0.8850\n",
            "Epoch 12/200\n",
            "213/213 [==============================] - 0s 1ms/step - loss: 0.2530 - binary_accuracy: 0.9061\n",
            "Epoch 13/200\n",
            "213/213 [==============================] - 0s 1ms/step - loss: 0.2647 - binary_accuracy: 0.8991\n",
            "Epoch 14/200\n",
            "213/213 [==============================] - 0s 1ms/step - loss: 0.2165 - binary_accuracy: 0.9225\n",
            "Epoch 15/200\n",
            "213/213 [==============================] - 0s 2ms/step - loss: 0.2522 - binary_accuracy: 0.8991\n",
            "Epoch 16/200\n",
            "213/213 [==============================] - 0s 1ms/step - loss: 0.2536 - binary_accuracy: 0.9014\n",
            "Epoch 17/200\n",
            "213/213 [==============================] - 0s 1ms/step - loss: 0.2284 - binary_accuracy: 0.9249\n",
            "Epoch 18/200\n",
            "213/213 [==============================] - 0s 1ms/step - loss: 0.2026 - binary_accuracy: 0.9202\n",
            "Epoch 19/200\n",
            "213/213 [==============================] - 0s 1ms/step - loss: 0.2087 - binary_accuracy: 0.9108\n",
            "Epoch 20/200\n",
            "213/213 [==============================] - 0s 1ms/step - loss: 0.2234 - binary_accuracy: 0.9108\n",
            "Epoch 21/200\n",
            "213/213 [==============================] - 0s 1ms/step - loss: 0.2256 - binary_accuracy: 0.9061\n",
            "Epoch 22/200\n",
            "213/213 [==============================] - 0s 2ms/step - loss: 0.1842 - binary_accuracy: 0.9178\n",
            "Epoch 23/200\n",
            "213/213 [==============================] - 0s 1ms/step - loss: 0.2183 - binary_accuracy: 0.8967\n",
            "Epoch 24/200\n",
            "213/213 [==============================] - 0s 2ms/step - loss: 0.1805 - binary_accuracy: 0.9319\n",
            "Epoch 25/200\n",
            "213/213 [==============================] - 0s 1ms/step - loss: 0.2101 - binary_accuracy: 0.9155\n",
            "Epoch 26/200\n",
            "213/213 [==============================] - 0s 1ms/step - loss: 0.1986 - binary_accuracy: 0.9202\n",
            "Epoch 27/200\n",
            "213/213 [==============================] - 0s 1ms/step - loss: 0.1829 - binary_accuracy: 0.9319\n",
            "Epoch 28/200\n",
            "213/213 [==============================] - 0s 1ms/step - loss: 0.1853 - binary_accuracy: 0.9202\n",
            "Epoch 29/200\n",
            "213/213 [==============================] - 0s 1ms/step - loss: 0.2152 - binary_accuracy: 0.9131\n",
            "Epoch 30/200\n",
            "213/213 [==============================] - 0s 2ms/step - loss: 0.1879 - binary_accuracy: 0.9178\n",
            "Epoch 31/200\n",
            "213/213 [==============================] - 0s 1ms/step - loss: 0.1888 - binary_accuracy: 0.9178\n",
            "Epoch 32/200\n",
            "213/213 [==============================] - 0s 1ms/step - loss: 0.1721 - binary_accuracy: 0.9319\n",
            "Epoch 33/200\n",
            "213/213 [==============================] - 0s 2ms/step - loss: 0.1722 - binary_accuracy: 0.9178\n",
            "Epoch 34/200\n",
            "213/213 [==============================] - 0s 1ms/step - loss: 0.2330 - binary_accuracy: 0.9014\n",
            "Epoch 35/200\n",
            "213/213 [==============================] - 0s 1ms/step - loss: 0.1911 - binary_accuracy: 0.9202\n",
            "Epoch 36/200\n",
            "213/213 [==============================] - 0s 2ms/step - loss: 0.1775 - binary_accuracy: 0.9296\n",
            "Epoch 37/200\n",
            "213/213 [==============================] - 0s 1ms/step - loss: 0.1730 - binary_accuracy: 0.9178\n",
            "Epoch 38/200\n",
            "213/213 [==============================] - 0s 1ms/step - loss: 0.1707 - binary_accuracy: 0.9319\n",
            "Epoch 39/200\n",
            "213/213 [==============================] - 0s 1ms/step - loss: 0.1717 - binary_accuracy: 0.9413\n",
            "Epoch 40/200\n",
            "213/213 [==============================] - 0s 2ms/step - loss: 0.1634 - binary_accuracy: 0.9366\n",
            "Epoch 41/200\n",
            "213/213 [==============================] - 0s 1ms/step - loss: 0.1750 - binary_accuracy: 0.9249\n",
            "Epoch 42/200\n",
            "213/213 [==============================] - 0s 1ms/step - loss: 0.1955 - binary_accuracy: 0.9131\n",
            "Epoch 43/200\n",
            "213/213 [==============================] - 0s 1ms/step - loss: 0.2139 - binary_accuracy: 0.9131\n",
            "Epoch 44/200\n",
            "213/213 [==============================] - 0s 1ms/step - loss: 0.1702 - binary_accuracy: 0.9296\n",
            "Epoch 45/200\n",
            "213/213 [==============================] - 0s 1ms/step - loss: 0.1770 - binary_accuracy: 0.9249\n",
            "Epoch 46/200\n",
            "213/213 [==============================] - 0s 2ms/step - loss: 0.1937 - binary_accuracy: 0.9155\n",
            "Epoch 47/200\n",
            "213/213 [==============================] - 0s 1ms/step - loss: 0.1493 - binary_accuracy: 0.9366\n",
            "Epoch 48/200\n",
            "213/213 [==============================] - 0s 1ms/step - loss: 0.1698 - binary_accuracy: 0.9343\n",
            "Epoch 49/200\n",
            "213/213 [==============================] - 0s 2ms/step - loss: 0.1662 - binary_accuracy: 0.9484\n",
            "Epoch 50/200\n",
            "213/213 [==============================] - 0s 2ms/step - loss: 0.1609 - binary_accuracy: 0.9319\n",
            "Epoch 51/200\n",
            "213/213 [==============================] - 0s 1ms/step - loss: 0.1665 - binary_accuracy: 0.9249\n",
            "Epoch 52/200\n",
            "213/213 [==============================] - 0s 1ms/step - loss: 0.1418 - binary_accuracy: 0.9390\n",
            "Epoch 53/200\n",
            "213/213 [==============================] - 0s 1ms/step - loss: 0.1611 - binary_accuracy: 0.9225\n",
            "Epoch 54/200\n",
            "213/213 [==============================] - 0s 1ms/step - loss: 0.1809 - binary_accuracy: 0.9225\n",
            "Epoch 55/200\n",
            "213/213 [==============================] - 0s 2ms/step - loss: 0.1647 - binary_accuracy: 0.9343\n",
            "Epoch 56/200\n",
            "213/213 [==============================] - 0s 1ms/step - loss: 0.1678 - binary_accuracy: 0.9249\n",
            "Epoch 57/200\n",
            "213/213 [==============================] - 0s 2ms/step - loss: 0.1478 - binary_accuracy: 0.9366\n",
            "Epoch 58/200\n",
            "213/213 [==============================] - 0s 1ms/step - loss: 0.1455 - binary_accuracy: 0.9437\n",
            "Epoch 59/200\n",
            "213/213 [==============================] - 0s 1ms/step - loss: 0.1690 - binary_accuracy: 0.9225\n",
            "Epoch 60/200\n",
            "213/213 [==============================] - 0s 1ms/step - loss: 0.1770 - binary_accuracy: 0.9225\n",
            "Epoch 61/200\n",
            "213/213 [==============================] - 0s 1ms/step - loss: 0.1833 - binary_accuracy: 0.9272\n",
            "Epoch 62/200\n",
            "213/213 [==============================] - 0s 2ms/step - loss: 0.1560 - binary_accuracy: 0.9343\n",
            "Epoch 63/200\n",
            "213/213 [==============================] - 0s 2ms/step - loss: 0.1554 - binary_accuracy: 0.9390\n",
            "Epoch 64/200\n",
            "213/213 [==============================] - 0s 1ms/step - loss: 0.1608 - binary_accuracy: 0.9437\n",
            "Epoch 65/200\n",
            "213/213 [==============================] - 0s 2ms/step - loss: 0.1366 - binary_accuracy: 0.9460\n",
            "Epoch 66/200\n",
            "213/213 [==============================] - 0s 2ms/step - loss: 0.1321 - binary_accuracy: 0.9531\n",
            "Epoch 67/200\n",
            "213/213 [==============================] - 0s 2ms/step - loss: 0.1932 - binary_accuracy: 0.9296\n",
            "Epoch 68/200\n",
            "213/213 [==============================] - 0s 2ms/step - loss: 0.1352 - binary_accuracy: 0.9484\n",
            "Epoch 69/200\n",
            "213/213 [==============================] - 0s 2ms/step - loss: 0.1552 - binary_accuracy: 0.9343\n",
            "Epoch 70/200\n",
            "213/213 [==============================] - 0s 1ms/step - loss: 0.1406 - binary_accuracy: 0.9507\n",
            "Epoch 71/200\n",
            "213/213 [==============================] - 0s 1ms/step - loss: 0.1493 - binary_accuracy: 0.9484\n",
            "Epoch 72/200\n",
            "213/213 [==============================] - 0s 1ms/step - loss: 0.1468 - binary_accuracy: 0.9390\n",
            "Epoch 73/200\n",
            "213/213 [==============================] - 0s 1ms/step - loss: 0.2120 - binary_accuracy: 0.9202\n",
            "Epoch 74/200\n",
            "213/213 [==============================] - 0s 1ms/step - loss: 0.1729 - binary_accuracy: 0.9296\n",
            "Epoch 75/200\n",
            "213/213 [==============================] - 0s 1ms/step - loss: 0.1643 - binary_accuracy: 0.9343\n",
            "Epoch 76/200\n",
            "213/213 [==============================] - 0s 1ms/step - loss: 0.1244 - binary_accuracy: 0.9554\n",
            "Epoch 77/200\n",
            "213/213 [==============================] - 0s 1ms/step - loss: 0.1450 - binary_accuracy: 0.9507\n",
            "Epoch 78/200\n",
            "213/213 [==============================] - 0s 1ms/step - loss: 0.1458 - binary_accuracy: 0.9343\n",
            "Epoch 79/200\n",
            "213/213 [==============================] - 0s 1ms/step - loss: 0.1902 - binary_accuracy: 0.9319\n",
            "Epoch 80/200\n",
            "213/213 [==============================] - 0s 1ms/step - loss: 0.1248 - binary_accuracy: 0.9554\n",
            "Epoch 81/200\n",
            "213/213 [==============================] - 0s 1ms/step - loss: 0.1292 - binary_accuracy: 0.9319\n",
            "Epoch 82/200\n",
            "213/213 [==============================] - 0s 1ms/step - loss: 0.1300 - binary_accuracy: 0.9484\n",
            "Epoch 83/200\n",
            "213/213 [==============================] - 0s 1ms/step - loss: 0.1430 - binary_accuracy: 0.9413\n",
            "Epoch 84/200\n",
            "213/213 [==============================] - 0s 1ms/step - loss: 0.1392 - binary_accuracy: 0.9390\n",
            "Epoch 85/200\n",
            "213/213 [==============================] - 0s 1ms/step - loss: 0.1280 - binary_accuracy: 0.9413\n",
            "Epoch 86/200\n",
            "213/213 [==============================] - 0s 1ms/step - loss: 0.1289 - binary_accuracy: 0.9460\n",
            "Epoch 87/200\n",
            "213/213 [==============================] - 0s 2ms/step - loss: 0.1094 - binary_accuracy: 0.9507\n",
            "Epoch 88/200\n",
            "213/213 [==============================] - 0s 1ms/step - loss: 0.1415 - binary_accuracy: 0.9437\n",
            "Epoch 89/200\n",
            "213/213 [==============================] - 0s 2ms/step - loss: 0.2009 - binary_accuracy: 0.9225\n",
            "Epoch 90/200\n",
            "213/213 [==============================] - 0s 2ms/step - loss: 0.1204 - binary_accuracy: 0.9460\n",
            "Epoch 91/200\n",
            "213/213 [==============================] - 0s 1ms/step - loss: 0.1347 - binary_accuracy: 0.9437\n",
            "Epoch 92/200\n",
            "213/213 [==============================] - 0s 1ms/step - loss: 0.1332 - binary_accuracy: 0.9484\n",
            "Epoch 93/200\n",
            "213/213 [==============================] - 0s 1ms/step - loss: 0.1122 - binary_accuracy: 0.9624\n",
            "Epoch 94/200\n",
            "213/213 [==============================] - 0s 2ms/step - loss: 0.1248 - binary_accuracy: 0.9484\n",
            "Epoch 95/200\n",
            "213/213 [==============================] - 0s 1ms/step - loss: 0.1245 - binary_accuracy: 0.9413\n",
            "Epoch 96/200\n",
            "213/213 [==============================] - 0s 1ms/step - loss: 0.1450 - binary_accuracy: 0.9343\n",
            "Epoch 97/200\n",
            "213/213 [==============================] - 0s 2ms/step - loss: 0.1219 - binary_accuracy: 0.9460\n",
            "Epoch 98/200\n",
            "213/213 [==============================] - 0s 1ms/step - loss: 0.1286 - binary_accuracy: 0.9390\n",
            "Epoch 99/200\n",
            "213/213 [==============================] - 0s 2ms/step - loss: 0.1331 - binary_accuracy: 0.9390\n",
            "Epoch 100/200\n",
            "213/213 [==============================] - 0s 2ms/step - loss: 0.1486 - binary_accuracy: 0.9366\n",
            "Epoch 101/200\n",
            "213/213 [==============================] - 0s 1ms/step - loss: 0.1056 - binary_accuracy: 0.9531\n",
            "Epoch 102/200\n",
            "213/213 [==============================] - 0s 2ms/step - loss: 0.1329 - binary_accuracy: 0.9484\n",
            "Epoch 103/200\n",
            "213/213 [==============================] - 0s 2ms/step - loss: 0.1121 - binary_accuracy: 0.9601\n",
            "Epoch 104/200\n",
            "213/213 [==============================] - 0s 1ms/step - loss: 0.1186 - binary_accuracy: 0.9554\n",
            "Epoch 105/200\n",
            "213/213 [==============================] - 0s 2ms/step - loss: 0.1159 - binary_accuracy: 0.9601\n",
            "Epoch 106/200\n",
            "213/213 [==============================] - 0s 2ms/step - loss: 0.1127 - binary_accuracy: 0.9507\n",
            "Epoch 107/200\n",
            "213/213 [==============================] - 0s 1ms/step - loss: 0.1096 - binary_accuracy: 0.9507\n",
            "Epoch 108/200\n",
            "213/213 [==============================] - 0s 1ms/step - loss: 0.1526 - binary_accuracy: 0.9390\n",
            "Epoch 109/200\n",
            "213/213 [==============================] - 0s 2ms/step - loss: 0.1234 - binary_accuracy: 0.9507\n",
            "Epoch 110/200\n",
            "213/213 [==============================] - 0s 2ms/step - loss: 0.1345 - binary_accuracy: 0.9437\n",
            "Epoch 111/200\n",
            "213/213 [==============================] - 0s 1ms/step - loss: 0.1203 - binary_accuracy: 0.9577\n",
            "Epoch 112/200\n",
            "213/213 [==============================] - 0s 2ms/step - loss: 0.1166 - binary_accuracy: 0.9484\n",
            "Epoch 113/200\n",
            "213/213 [==============================] - 0s 2ms/step - loss: 0.1170 - binary_accuracy: 0.9554\n",
            "Epoch 114/200\n",
            "213/213 [==============================] - 0s 2ms/step - loss: 0.1083 - binary_accuracy: 0.9554\n",
            "Epoch 115/200\n",
            "213/213 [==============================] - 0s 2ms/step - loss: 0.1068 - binary_accuracy: 0.9484\n",
            "Epoch 116/200\n",
            "213/213 [==============================] - 0s 1ms/step - loss: 0.1285 - binary_accuracy: 0.9413\n",
            "Epoch 117/200\n",
            "213/213 [==============================] - 0s 1ms/step - loss: 0.1186 - binary_accuracy: 0.9460\n",
            "Epoch 118/200\n",
            "213/213 [==============================] - 0s 2ms/step - loss: 0.1333 - binary_accuracy: 0.9460\n",
            "Epoch 119/200\n",
            "213/213 [==============================] - 0s 2ms/step - loss: 0.1207 - binary_accuracy: 0.9531\n",
            "Epoch 120/200\n",
            "213/213 [==============================] - 0s 2ms/step - loss: 0.1044 - binary_accuracy: 0.9554\n",
            "Epoch 121/200\n",
            "213/213 [==============================] - 0s 2ms/step - loss: 0.1393 - binary_accuracy: 0.9437\n",
            "Epoch 122/200\n",
            "213/213 [==============================] - 0s 2ms/step - loss: 0.1006 - binary_accuracy: 0.9531\n",
            "Epoch 123/200\n",
            "213/213 [==============================] - 0s 2ms/step - loss: 0.1246 - binary_accuracy: 0.9554\n",
            "Epoch 124/200\n",
            "213/213 [==============================] - 0s 2ms/step - loss: 0.1431 - binary_accuracy: 0.9460\n",
            "Epoch 125/200\n",
            "213/213 [==============================] - 0s 2ms/step - loss: 0.1171 - binary_accuracy: 0.9507\n",
            "Epoch 126/200\n",
            "213/213 [==============================] - 0s 2ms/step - loss: 0.1005 - binary_accuracy: 0.9577\n",
            "Epoch 127/200\n",
            "213/213 [==============================] - 0s 2ms/step - loss: 0.0994 - binary_accuracy: 0.9577\n",
            "Epoch 128/200\n",
            "213/213 [==============================] - 0s 2ms/step - loss: 0.1007 - binary_accuracy: 0.9671\n",
            "Epoch 129/200\n",
            "213/213 [==============================] - 0s 2ms/step - loss: 0.1259 - binary_accuracy: 0.9390\n",
            "Epoch 130/200\n",
            "213/213 [==============================] - 0s 2ms/step - loss: 0.1403 - binary_accuracy: 0.9531\n",
            "Epoch 131/200\n",
            "213/213 [==============================] - 0s 2ms/step - loss: 0.1099 - binary_accuracy: 0.9554\n",
            "Epoch 132/200\n",
            "213/213 [==============================] - 0s 2ms/step - loss: 0.1155 - binary_accuracy: 0.9507\n",
            "Epoch 133/200\n",
            "213/213 [==============================] - 0s 2ms/step - loss: 0.1018 - binary_accuracy: 0.9624\n",
            "Epoch 134/200\n",
            "213/213 [==============================] - 0s 2ms/step - loss: 0.1042 - binary_accuracy: 0.9601\n",
            "Epoch 135/200\n",
            "213/213 [==============================] - 0s 2ms/step - loss: 0.0972 - binary_accuracy: 0.9601\n",
            "Epoch 136/200\n",
            "213/213 [==============================] - 0s 2ms/step - loss: 0.1797 - binary_accuracy: 0.9319\n",
            "Epoch 137/200\n",
            "213/213 [==============================] - 0s 1ms/step - loss: 0.1094 - binary_accuracy: 0.9601\n",
            "Epoch 138/200\n",
            "213/213 [==============================] - 0s 2ms/step - loss: 0.0952 - binary_accuracy: 0.9624\n",
            "Epoch 139/200\n",
            "213/213 [==============================] - 0s 2ms/step - loss: 0.1185 - binary_accuracy: 0.9531\n",
            "Epoch 140/200\n",
            "213/213 [==============================] - 0s 2ms/step - loss: 0.1316 - binary_accuracy: 0.9554\n",
            "Epoch 141/200\n",
            "213/213 [==============================] - 0s 2ms/step - loss: 0.1055 - binary_accuracy: 0.9554\n",
            "Epoch 142/200\n",
            "213/213 [==============================] - 0s 2ms/step - loss: 0.1013 - binary_accuracy: 0.9601\n",
            "Epoch 143/200\n",
            "213/213 [==============================] - 0s 2ms/step - loss: 0.0964 - binary_accuracy: 0.9601\n",
            "Epoch 144/200\n",
            "213/213 [==============================] - 0s 1ms/step - loss: 0.1067 - binary_accuracy: 0.9507\n",
            "Epoch 145/200\n",
            "213/213 [==============================] - 0s 2ms/step - loss: 0.0973 - binary_accuracy: 0.9671\n",
            "Epoch 146/200\n",
            "213/213 [==============================] - 0s 1ms/step - loss: 0.0961 - binary_accuracy: 0.9601\n",
            "Epoch 147/200\n",
            "213/213 [==============================] - 0s 2ms/step - loss: 0.1155 - binary_accuracy: 0.9531\n",
            "Epoch 148/200\n",
            "213/213 [==============================] - 0s 1ms/step - loss: 0.0980 - binary_accuracy: 0.9624\n",
            "Epoch 149/200\n",
            "213/213 [==============================] - 0s 2ms/step - loss: 0.2118 - binary_accuracy: 0.9202\n",
            "Epoch 150/200\n",
            "213/213 [==============================] - 0s 1ms/step - loss: 0.1217 - binary_accuracy: 0.9390\n",
            "Epoch 151/200\n",
            "213/213 [==============================] - 0s 2ms/step - loss: 0.1000 - binary_accuracy: 0.9624\n",
            "Epoch 152/200\n",
            "213/213 [==============================] - 0s 2ms/step - loss: 0.0949 - binary_accuracy: 0.9531\n",
            "Epoch 153/200\n",
            "213/213 [==============================] - 0s 1ms/step - loss: 0.0918 - binary_accuracy: 0.9601\n",
            "Epoch 154/200\n",
            "213/213 [==============================] - 0s 2ms/step - loss: 0.0900 - binary_accuracy: 0.9624\n",
            "Epoch 155/200\n",
            "213/213 [==============================] - 0s 1ms/step - loss: 0.1205 - binary_accuracy: 0.9531\n",
            "Epoch 156/200\n",
            "213/213 [==============================] - 0s 2ms/step - loss: 0.1195 - binary_accuracy: 0.9531\n",
            "Epoch 157/200\n",
            "213/213 [==============================] - 0s 1ms/step - loss: 0.2490 - binary_accuracy: 0.9131\n",
            "Epoch 158/200\n",
            "213/213 [==============================] - 0s 2ms/step - loss: 0.1403 - binary_accuracy: 0.9554\n",
            "Epoch 159/200\n",
            "213/213 [==============================] - 0s 1ms/step - loss: 0.1015 - binary_accuracy: 0.9671\n",
            "Epoch 160/200\n",
            "213/213 [==============================] - 0s 1ms/step - loss: 0.1121 - binary_accuracy: 0.9577\n",
            "Epoch 161/200\n",
            "213/213 [==============================] - 0s 2ms/step - loss: 0.1029 - binary_accuracy: 0.9577\n",
            "Epoch 162/200\n",
            "213/213 [==============================] - 0s 2ms/step - loss: 0.0959 - binary_accuracy: 0.9601\n",
            "Epoch 163/200\n",
            "213/213 [==============================] - 0s 1ms/step - loss: 0.1125 - binary_accuracy: 0.9460\n",
            "Epoch 164/200\n",
            "213/213 [==============================] - 0s 2ms/step - loss: 0.1566 - binary_accuracy: 0.9437\n",
            "Epoch 165/200\n",
            "213/213 [==============================] - 0s 2ms/step - loss: 0.1448 - binary_accuracy: 0.9437\n",
            "Epoch 166/200\n",
            "213/213 [==============================] - 0s 2ms/step - loss: 0.0963 - binary_accuracy: 0.9601\n",
            "Epoch 167/200\n",
            "213/213 [==============================] - 0s 2ms/step - loss: 0.0862 - binary_accuracy: 0.9695\n",
            "Epoch 168/200\n",
            "213/213 [==============================] - 0s 2ms/step - loss: 0.0884 - binary_accuracy: 0.9601\n",
            "Epoch 169/200\n",
            "213/213 [==============================] - 0s 2ms/step - loss: 0.0994 - binary_accuracy: 0.9577\n",
            "Epoch 170/200\n",
            "213/213 [==============================] - 0s 2ms/step - loss: 0.0992 - binary_accuracy: 0.9577\n",
            "Epoch 171/200\n",
            "213/213 [==============================] - 0s 2ms/step - loss: 0.0930 - binary_accuracy: 0.9671\n",
            "Epoch 172/200\n",
            "213/213 [==============================] - 0s 2ms/step - loss: 0.0939 - binary_accuracy: 0.9531\n",
            "Epoch 173/200\n",
            "213/213 [==============================] - 0s 2ms/step - loss: 0.1243 - binary_accuracy: 0.9577\n",
            "Epoch 174/200\n",
            "213/213 [==============================] - 0s 1ms/step - loss: 0.1268 - binary_accuracy: 0.9507\n",
            "Epoch 175/200\n",
            "213/213 [==============================] - 0s 2ms/step - loss: 0.0988 - binary_accuracy: 0.9601\n",
            "Epoch 176/200\n",
            "213/213 [==============================] - 0s 2ms/step - loss: 0.0997 - binary_accuracy: 0.9531\n",
            "Epoch 177/200\n",
            "213/213 [==============================] - 0s 2ms/step - loss: 0.1073 - binary_accuracy: 0.9507\n",
            "Epoch 178/200\n",
            "213/213 [==============================] - 0s 2ms/step - loss: 0.1333 - binary_accuracy: 0.9366\n",
            "Epoch 179/200\n",
            "213/213 [==============================] - 0s 2ms/step - loss: 0.1063 - binary_accuracy: 0.9601\n",
            "Epoch 180/200\n",
            "213/213 [==============================] - 0s 2ms/step - loss: 0.0804 - binary_accuracy: 0.9718\n",
            "Epoch 181/200\n",
            "213/213 [==============================] - 0s 2ms/step - loss: 0.0956 - binary_accuracy: 0.9648\n",
            "Epoch 182/200\n",
            "213/213 [==============================] - 0s 2ms/step - loss: 0.0828 - binary_accuracy: 0.9624\n",
            "Epoch 183/200\n",
            "213/213 [==============================] - 0s 2ms/step - loss: 0.0886 - binary_accuracy: 0.9531\n",
            "Epoch 184/200\n",
            "213/213 [==============================] - 0s 2ms/step - loss: 0.1305 - binary_accuracy: 0.9413\n",
            "Epoch 185/200\n",
            "213/213 [==============================] - 0s 2ms/step - loss: 0.1103 - binary_accuracy: 0.9413\n",
            "Epoch 186/200\n",
            "213/213 [==============================] - 0s 2ms/step - loss: 0.0925 - binary_accuracy: 0.9577\n",
            "Epoch 187/200\n",
            "213/213 [==============================] - 0s 2ms/step - loss: 0.1013 - binary_accuracy: 0.9554\n",
            "Epoch 188/200\n",
            "213/213 [==============================] - 0s 2ms/step - loss: 0.0866 - binary_accuracy: 0.9695\n",
            "Epoch 189/200\n",
            "213/213 [==============================] - 0s 2ms/step - loss: 0.0937 - binary_accuracy: 0.9601\n",
            "Epoch 190/200\n",
            "213/213 [==============================] - 0s 2ms/step - loss: 0.0847 - binary_accuracy: 0.9742\n",
            "Epoch 191/200\n",
            "213/213 [==============================] - 0s 2ms/step - loss: 0.1282 - binary_accuracy: 0.9507\n",
            "Epoch 192/200\n",
            "213/213 [==============================] - 0s 2ms/step - loss: 0.1026 - binary_accuracy: 0.9648\n",
            "Epoch 193/200\n",
            "213/213 [==============================] - 0s 2ms/step - loss: 0.0924 - binary_accuracy: 0.9671\n",
            "Epoch 194/200\n",
            "213/213 [==============================] - 0s 2ms/step - loss: 0.0889 - binary_accuracy: 0.9554\n",
            "Epoch 195/200\n",
            "213/213 [==============================] - 0s 1ms/step - loss: 0.0925 - binary_accuracy: 0.9601\n",
            "Epoch 196/200\n",
            "213/213 [==============================] - 0s 2ms/step - loss: 0.0801 - binary_accuracy: 0.9671\n",
            "Epoch 197/200\n",
            "213/213 [==============================] - 0s 2ms/step - loss: 0.0770 - binary_accuracy: 0.9742\n",
            "Epoch 198/200\n",
            "213/213 [==============================] - 0s 2ms/step - loss: 0.1026 - binary_accuracy: 0.9601\n",
            "Epoch 199/200\n",
            "213/213 [==============================] - 0s 2ms/step - loss: 0.1360 - binary_accuracy: 0.9507\n",
            "Epoch 200/200\n",
            "213/213 [==============================] - 0s 2ms/step - loss: 0.1298 - binary_accuracy: 0.9507\n"
          ]
        },
        {
          "output_type": "execute_result",
          "data": {
            "text/plain": [
              "<keras.callbacks.History at 0x7f57f55e3ad0>"
            ]
          },
          "metadata": {},
          "execution_count": 9
        }
      ]
    },
    {
      "cell_type": "markdown",
      "metadata": {
        "id": "ST01gK9dSAqt"
      },
      "source": [
        "**Testando a rede neural**"
      ]
    },
    {
      "cell_type": "code",
      "metadata": {
        "id": "TLQc_YfNPhHg"
      },
      "source": [
        "previsoes = classificador.predict(previsores_teste)\n"
      ],
      "execution_count": null,
      "outputs": []
    },
    {
      "cell_type": "markdown",
      "metadata": {
        "id": "ZTTIQGLtSixT"
      },
      "source": [
        "**Transformando os valores 0 e 1 para True e False.**"
      ]
    },
    {
      "cell_type": "code",
      "metadata": {
        "id": "39HMfcT0ShnV"
      },
      "source": [
        "previsoes = (previsoes > 0.5)\n"
      ],
      "execution_count": null,
      "outputs": []
    },
    {
      "cell_type": "markdown",
      "metadata": {
        "id": "DF53DTF7Xgh-"
      },
      "source": [
        "**Comparando os vetores para medir o acerto**"
      ]
    },
    {
      "cell_type": "code",
      "metadata": {
        "colab": {
          "base_uri": "https://localhost:8080/"
        },
        "id": "J_YXPw2bXf6t",
        "outputId": "6c7fa9e8-305e-406b-ea0c-5303fa5af31d"
      },
      "source": [
        "from sklearn.metrics import confusion_matrix, accuracy_score\n",
        "\n",
        "precisao = accuracy_score(classe_teste, previsoes)\n",
        "\n",
        "print(precisao)\n",
        "\n",
        "matriz = confusion_matrix(classe_teste, previsoes)\n",
        "\n",
        "print(matriz)"
      ],
      "execution_count": null,
      "outputs": [
        {
          "output_type": "stream",
          "name": "stdout",
          "text": [
            "0.8181818181818182\n",
            "[[50  6]\n",
            " [20 67]]\n"
          ]
        }
      ]
    },
    {
      "cell_type": "markdown",
      "metadata": {
        "id": "CYSX5FvGZDl1"
      },
      "source": [
        "**Comparante usando o recurso do Keras**"
      ]
    },
    {
      "cell_type": "code",
      "metadata": {
        "colab": {
          "base_uri": "https://localhost:8080/"
        },
        "id": "vkDkrupzY--x",
        "outputId": "78b75ed2-6c6c-4fc3-8315-3e61eaad8604"
      },
      "source": [
        "resultado = classificador.evaluate(previsores_teste, classe_teste)\n",
        "print(resultado)"
      ],
      "execution_count": null,
      "outputs": [
        {
          "output_type": "stream",
          "name": "stdout",
          "text": [
            "5/5 [==============================] - 0s 2ms/step - loss: 0.8809 - binary_accuracy: 0.8182\n",
            "[0.8809029459953308, 0.8181818127632141]\n"
          ]
        }
      ]
    },
    {
      "cell_type": "code",
      "metadata": {
        "id": "v038VA1cZUxd",
        "colab": {
          "base_uri": "https://localhost:8080/",
          "height": 296
        },
        "outputId": "44076eea-63d4-4cff-9c07-c30c9df56a45"
      },
      "source": [
        "import matplotlib.pyplot as plt\n",
        "import seaborn as sns\n",
        "#confusion matrix\n",
        "plt.figure(figsize = (6,4))\n",
        "cm = confusion_matrix(classe_teste, previsoes)\n",
        "sns.heatmap(cm,cmap= \"Blues\", linecolor = 'black' , linewidth = 1 , annot = True, fmt='' , xticklabels = ['Benigno','Maligno'] , yticklabels = ['Benigno','Maligno'])\n",
        "plt.xlabel(\"Predicted\")\n",
        "plt.ylabel(\"Actual\")"
      ],
      "execution_count": null,
      "outputs": [
        {
          "output_type": "execute_result",
          "data": {
            "text/plain": [
              "Text(33.0, 0.5, 'Actual')"
            ]
          },
          "metadata": {},
          "execution_count": 14
        },
        {
          "output_type": "display_data",
          "data": {
            "image/png": "[encoded data removed]",
            "text/plain": [
              "<Figure size 432x288 with 2 Axes>"
            ]
          },
          "metadata": {
            "needs_background": "light"
          }
        }
      ]
    },
    {
      "cell_type": "code",
      "metadata": {
        "id": "0aUcC7N071f1"
      },
      "source": [],
      "execution_count": null,
      "outputs": []
    },
    {
      "cell_type": "code",
      "metadata": {
        "id": "nM9axsZrYqLg",
        "colab": {
          "base_uri": "https://localhost:8080/"
        },
        "outputId": "3b697899-2783-4da4-f779-3683252f1f52"
      },
      "source": [
        "FP = matriz.sum(axis=0) - np.diag(matriz)  \n",
        "FN = matriz.sum(axis=1) - np.diag(matriz)\n",
        "TP = np.diag(matriz)\n",
        "TN = matriz.sum() - (FP + FN + TP)\n",
        "\n",
        "print(f'FP: {FP}\\n\\nFN: {FN}\\n\\nTP: {TP}\\n\\nTN: {TN}')"
      ],
      "execution_count": null,
      "outputs": [
        {
          "output_type": "stream",
          "name": "stdout",
          "text": [
            "FP: [20  6]\n",
            "\n",
            "FN: [ 6 20]\n",
            "\n",
            "TP: [50 67]\n",
            "\n",
            "TN: [67 50]\n"
          ]
        }
      ]
    },
    {
      "cell_type": "code",
      "metadata": {
        "colab": {
          "base_uri": "https://localhost:8080/"
        },
        "id": "ga_c1HR19ij9",
        "outputId": "1c18b0da-1efc-4c7a-e06e-981cc7689d69"
      },
      "source": [
        "Recall = recall_score(classe_teste, previsoes, labels=None, pos_label=1, average='macro', sample_weight=None, zero_division='warn')\n",
        "Recall"
      ],
      "execution_count": null,
      "outputs": [
        {
          "output_type": "execute_result",
          "data": {
            "text/plain": [
              "0.8314860426929392"
            ]
          },
          "metadata": {},
          "execution_count": 22
        }
      ]
    },
    {
      "cell_type": "code",
      "metadata": {
        "colab": {
          "base_uri": "https://localhost:8080/"
        },
        "id": "fRiTLAuAZA0L",
        "outputId": "e20ddd16-4237-45ee-df30-b018c89abbeb"
      },
      "source": [
        "sensitivity = TP[0]/(TP[0]+FN[0])\n",
        "sensitivity"
      ],
      "execution_count": null,
      "outputs": [
        {
          "output_type": "execute_result",
          "data": {
            "text/plain": [
              "0.8928571428571429"
            ]
          },
          "metadata": {},
          "execution_count": 16
        }
      ]
    },
    {
      "cell_type": "code",
      "metadata": {
        "colab": {
          "base_uri": "https://localhost:8080/"
        },
        "id": "aJKc4Z43ZEnI",
        "outputId": "48e67df0-94ee-419b-c8f1-6262d4496354"
      },
      "source": [
        "specificity = TN[0]/(TN[0]+FP[0])\n",
        "specificity"
      ],
      "execution_count": null,
      "outputs": [
        {
          "output_type": "execute_result",
          "data": {
            "text/plain": [
              "0.7701149425287356"
            ]
          },
          "metadata": {},
          "execution_count": 17
        }
      ]
    }
  ]
}